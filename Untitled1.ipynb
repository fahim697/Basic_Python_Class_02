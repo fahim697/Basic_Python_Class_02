{
 "cells": [
  {
   "cell_type": "markdown",
   "id": "a98692c4",
   "metadata": {},
   "source": [
    "# Basic_Python_Class_02"
   ]
  },
  {
   "cell_type": "markdown",
   "id": "12f231a8",
   "metadata": {},
   "source": [
    "# 1.Loop"
   ]
  },
  {
   "cell_type": "code",
   "execution_count": 1,
   "id": "a36e3b81",
   "metadata": {},
   "outputs": [
    {
     "name": "stdout",
     "output_type": "stream",
     "text": [
      "Apple\n",
      "Banana\n",
      "Cherry\n"
     ]
    }
   ],
   "source": [
    "fruits= [\"Apple\",\"Banana\",\"Cherry\"]\n",
    "for x in fruits:\n",
    "    print(x)"
   ]
  },
  {
   "cell_type": "code",
   "execution_count": 7,
   "id": "11d8f43a",
   "metadata": {},
   "outputs": [
    {
     "name": "stdout",
     "output_type": "stream",
     "text": [
      "a\n",
      "p\n",
      "p\n",
      "l\n",
      "e\n"
     ]
    }
   ],
   "source": [
    "for x in 'apple':\n",
    "    print (x)"
   ]
  },
  {
   "cell_type": "code",
   "execution_count": 8,
   "id": "35f8a143",
   "metadata": {},
   "outputs": [
    {
     "name": "stdout",
     "output_type": "stream",
     "text": [
      "0\n",
      "1\n",
      "2\n",
      "3\n",
      "4\n",
      "5\n",
      "6\n",
      "7\n",
      "8\n",
      "9\n",
      "10\n",
      "11\n",
      "12\n",
      "13\n",
      "14\n"
     ]
    }
   ],
   "source": [
    "for x in range (15):\n",
    "    print (x)"
   ]
  },
  {
   "cell_type": "code",
   "execution_count": 9,
   "id": "68e6c70c",
   "metadata": {},
   "outputs": [
    {
     "name": "stdout",
     "output_type": "stream",
     "text": [
      "10\n",
      "11\n",
      "12\n",
      "13\n",
      "14\n"
     ]
    }
   ],
   "source": [
    "for x in range (10,15):\n",
    "    print (x)"
   ]
  },
  {
   "cell_type": "code",
   "execution_count": 10,
   "id": "bb9481f7",
   "metadata": {},
   "outputs": [
    {
     "name": "stdout",
     "output_type": "stream",
     "text": [
      "3\n",
      "6\n",
      "9\n",
      "12\n"
     ]
    }
   ],
   "source": [
    "for x in range (3,15,3):\n",
    "    print (x)"
   ]
  },
  {
   "cell_type": "code",
   "execution_count": 13,
   "id": "b6434c22",
   "metadata": {},
   "outputs": [
    {
     "name": "stdout",
     "output_type": "stream",
     "text": [
      "0\n",
      "1\n",
      "2\n",
      "3\n",
      "4\n",
      "5\n",
      "6\n",
      "7\n",
      "8\n",
      "9\n",
      "End\n"
     ]
    }
   ],
   "source": [
    " for x in range (10):\n",
    "    print (x)\n",
    " else:\n",
    "        print(\"End\")"
   ]
  },
  {
   "cell_type": "code",
   "execution_count": 14,
   "id": "0b3eb2c3",
   "metadata": {},
   "outputs": [
    {
     "name": "stdout",
     "output_type": "stream",
     "text": [
      "Red Apple\n",
      "Red Banana\n",
      "Red Cherry\n",
      "Big Apple\n",
      "Big Banana\n",
      "Big Cherry\n",
      "Tasty Apple\n",
      "Tasty Banana\n",
      "Tasty Cherry\n"
     ]
    }
   ],
   "source": [
    "first = [\"Red\",\"Big\",\"Tasty\"]\n",
    "second = [\"Apple\",\"Banana\",\"Cherry\"]\n",
    "for x in first:\n",
    "    for y in second:\n",
    "        print(x,y)"
   ]
  },
  {
   "cell_type": "code",
   "execution_count": 15,
   "id": "0a962fe3",
   "metadata": {},
   "outputs": [
    {
     "name": "stdout",
     "output_type": "stream",
     "text": [
      "Apple Red\n",
      "Banana Red\n",
      "Cherry Red\n",
      "Apple Big\n",
      "Banana Big\n",
      "Cherry Big\n",
      "Apple Tasty\n",
      "Banana Tasty\n",
      "Cherry Tasty\n"
     ]
    }
   ],
   "source": [
    "first = [\"Red\",\"Big\",\"Tasty\"]\n",
    "second = [\"Apple\",\"Banana\",\"Cherry\"]\n",
    "for x in first:\n",
    "    for y in second:\n",
    "        print(y,x)"
   ]
  },
  {
   "cell_type": "code",
   "execution_count": 28,
   "id": "6aa9ad83",
   "metadata": {},
   "outputs": [
    {
     "name": "stdout",
     "output_type": "stream",
     "text": [
      "Big\n"
     ]
    }
   ],
   "source": [
    "first=[\"Red\",\"Big\",\"Tasty\"]\n",
    "for x in first:\n",
    "    if x==\"Big\":\n",
    "        break\n",
    "print(x)"
   ]
  },
  {
   "cell_type": "code",
   "execution_count": 29,
   "id": "47cf54ba",
   "metadata": {},
   "outputs": [
    {
     "name": "stdout",
     "output_type": "stream",
     "text": [
      "Tasty\n"
     ]
    }
   ],
   "source": [
    "first=[\"Red\",\"Big\",\"Tasty\"]\n",
    "for x in first:\n",
    "    if x==\"Big\":\n",
    "        continue\n",
    "print(x)"
   ]
  },
  {
   "cell_type": "code",
   "execution_count": 31,
   "id": "e6e6e9ca",
   "metadata": {},
   "outputs": [
    {
     "name": "stdout",
     "output_type": "stream",
     "text": [
      "2\n",
      "5\n",
      "9\n",
      "14\n",
      "20\n",
      "27\n",
      "35\n",
      "44\n",
      "54\n"
     ]
    }
   ],
   "source": [
    "numbers=[2,3,4,5,6,7,8,9,10]\n",
    "sum=0\n",
    "for x in numbers:\n",
    "    sum=sum+x\n",
    "    print(sum)"
   ]
  },
  {
   "cell_type": "code",
   "execution_count": 32,
   "id": "9df0f78a",
   "metadata": {},
   "outputs": [
    {
     "name": "stdout",
     "output_type": "stream",
     "text": [
      "54\n"
     ]
    }
   ],
   "source": [
    "numbers=[2,3,4,5,6,7,8,9,10]\n",
    "sum=0\n",
    "for x in numbers:\n",
    "    sum=sum+x\n",
    "print(sum)"
   ]
  },
  {
   "cell_type": "code",
   "execution_count": 33,
   "id": "0934d8b7",
   "metadata": {},
   "outputs": [
    {
     "name": "stdout",
     "output_type": "stream",
     "text": [
      "[(0, 'Apple'), (1, 'Banana'), (2, 'Cherry')]\n"
     ]
    }
   ],
   "source": [
    "items = [\"Apple\",\"Banana\",\"Cherry\"]\n",
    "x=enumerate(items)\n",
    "print(list(x))"
   ]
  },
  {
   "cell_type": "code",
   "execution_count": 36,
   "id": "d2cae2a3",
   "metadata": {},
   "outputs": [
    {
     "name": "stdout",
     "output_type": "stream",
     "text": [
      "['Apple', 'Banana', 'Cherry']\n"
     ]
    }
   ],
   "source": [
    "items = [\"Apple\",\"Banana\",\"Cherry\"]\n",
    "x=enumerate(x,10)\n",
    "print(list(items))"
   ]
  },
  {
   "cell_type": "code",
   "execution_count": 37,
   "id": "fa7423ea",
   "metadata": {},
   "outputs": [
    {
     "name": "stdout",
     "output_type": "stream",
     "text": [
      "['Apple', 'Banana', 'Cherry']\n"
     ]
    }
   ],
   "source": [
    "items = [\"Apple\",\"Banana\",\"Cherry\"]\n",
    "x=enumerate(x,10)\n",
    "print(list(items))"
   ]
  },
  {
   "cell_type": "code",
   "execution_count": 38,
   "id": "9aac97b1",
   "metadata": {},
   "outputs": [],
   "source": [
    "import turtle\n",
    "turtle.forward(100)"
   ]
  },
  {
   "cell_type": "code",
   "execution_count": null,
   "id": "e8fffada",
   "metadata": {},
   "outputs": [],
   "source": [
    "import turtle\n",
    "turtle.shape(\"turtle\")\n",
    "turtle.speed(1)\n",
    "turtle.forward(100)\n",
    "turtle.left(90)\n",
    "turtle.forward(60)\n",
    "turtle.left(90)\n",
    "turtle.forward(100)\n",
    "turtle.left(90)\n",
    "turtle.forward(60)\n",
    "turtle.left(90)\n",
    "turtle.exitonclick()"
   ]
  },
  {
   "cell_type": "code",
   "execution_count": null,
   "id": "a42986c4",
   "metadata": {},
   "outputs": [],
   "source": []
  }
 ],
 "metadata": {
  "kernelspec": {
   "display_name": "Python 3 (ipykernel)",
   "language": "python",
   "name": "python3"
  },
  "language_info": {
   "codemirror_mode": {
    "name": "ipython",
    "version": 3
   },
   "file_extension": ".py",
   "mimetype": "text/x-python",
   "name": "python",
   "nbconvert_exporter": "python",
   "pygments_lexer": "ipython3",
   "version": "3.9.12"
  }
 },
 "nbformat": 4,
 "nbformat_minor": 5
}
